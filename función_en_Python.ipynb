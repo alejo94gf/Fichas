{
  "nbformat": 4,
  "nbformat_minor": 0,
  "metadata": {
    "colab": {
      "provenance": [],
      "authorship_tag": "ABX9TyPL5YRfXrzXk6uoIILFDv0Y",
      "include_colab_link": true
    },
    "kernelspec": {
      "name": "python3",
      "display_name": "Python 3"
    },
    "language_info": {
      "name": "python"
    }
  },
  "cells": [
    {
      "cell_type": "markdown",
      "metadata": {
        "id": "view-in-github",
        "colab_type": "text"
      },
      "source": [
        "<a href=\"https://colab.research.google.com/github/alejo94gf/Fichas/blob/main/funci%C3%B3n_en_Python.ipynb\" target=\"_parent\"><img src=\"https://colab.research.google.com/assets/colab-badge.svg\" alt=\"Open In Colab\"/></a>"
      ]
    },
    {
      "cell_type": "markdown",
      "source": [
        "#  función en Python.\n",
        "Una función es un bloque de código reutilizable que hace una tarea específica.\n",
        "La idea es escribir una vez y usar muchas veces.\n",
        "\n",
        "###¿Para qué se usan las funciones?\n",
        "Evitan repetir código.\n",
        "\n",
        "Organizan el programa en partes pequeñas.\n",
        "\n",
        "Hacen tu código más limpio, modular y fácil de mantener.\n",
        "\n",
        "###Sintaxis básica de una función\n",
        "\n",
        "def nombre_de_la_funcion():\n",
        "    \n"
      ],
      "metadata": {
        "id": "mSXGgiIUwNYU"
      }
    },
    {
      "cell_type": "code",
      "source": [
        "# Ejemplo basico:\n",
        "def saludar():\n",
        "    print(\"¡Hola! Bienvenido.\")\n",
        "\n",
        "# Llamar a la función\n",
        "saludar()"
      ],
      "metadata": {
        "id": "0A4tjl7Xw5J0"
      },
      "execution_count": null,
      "outputs": []
    },
    {
      "cell_type": "code",
      "execution_count": null,
      "metadata": {
        "id": "jjnrkEztwDis"
      },
      "outputs": [],
      "source": [
        " # ejemplo y  partes de una función.\n",
        "\n",
        "def sumar(a, b):    # ← definición (nombre + parámetros)\n",
        "    resultado = a + b  # ← cuerpo de la función\n",
        "    return resultado   # ← valor que se devuelve\n",
        "sumar()  # llamado de la funcion\n",
        "\n",
        "## https://alejo94gf.github.io/Funcion2.0/ficha/Funciones.mp3"
      ]
    }
  ]
}