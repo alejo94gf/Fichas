{
  "nbformat": 4,
  "nbformat_minor": 0,
  "metadata": {
    "colab": {
      "provenance": [],
      "authorship_tag": "ABX9TyNoZvt4AabQFtUT3c0m5liz",
      "include_colab_link": true
    },
    "kernelspec": {
      "name": "python3",
      "display_name": "Python 3"
    },
    "language_info": {
      "name": "python"
    }
  },
  "cells": [
    {
      "cell_type": "markdown",
      "metadata": {
        "id": "view-in-github",
        "colab_type": "text"
      },
      "source": [
        "<a href=\"https://colab.research.google.com/github/alejo94gf/Fichas/blob/main/if_else_elif.ipynb\" target=\"_parent\"><img src=\"https://colab.research.google.com/assets/colab-badge.svg\" alt=\"Open In Colab\"/></a>"
      ]
    },
    {
      "cell_type": "markdown",
      "source": [
        "# if/else elif en Python\n",
        "###if condición_1:\n",
        "    código si la condición_1 es verdadera\n",
        "###elif condición_2:\n",
        "    código si la condición_2 es verdadera (opcional)\n",
        "###else:\n",
        "    código si ninguna condición anterior se cumplió (opcional)\n",
        "\n",
        "    \n"
      ],
      "metadata": {
        "id": "B7IeqyvSrErW"
      }
    },
    {
      "cell_type": "code",
      "source": [
        " # if (si)\n",
        "#Evalúa una condición. Si es verdadera, ejecuta el bloque.\n",
        "edad = 20\n",
        "\n",
        "if edad >= 18:\n",
        "    print(\"Eres mayor de edad\")\n"
      ],
      "metadata": {
        "id": "rOPQVBWXrZXV"
      },
      "execution_count": null,
      "outputs": []
    },
    {
      "cell_type": "code",
      "execution_count": null,
      "metadata": {
        "id": "BrcsJ_QZqcLO"
      },
      "outputs": [],
      "source": [
        "# elif (sino si)\n",
        "#Se usa si quieres evaluar otra condición diferente si la anterior no fue verdadera.\n",
        "nota = 7\n",
        "\n",
        "if nota >= 9:\n",
        "    print(\"Excelente\")\n",
        "elif nota >= 7:\n",
        "    print(\"Aprobado con buena nota\")\n"
      ]
    },
    {
      "cell_type": "code",
      "source": [
        " #else (sino)\n",
        "#Se ejecuta si ninguna condición anterior fue verdadera.\n",
        "\n",
        "nota = 5\n",
        "\n",
        "if nota >= 9:\n",
        "    print(\"Excelente\")\n",
        "elif nota >= 7:\n",
        "    print(\"Aprobado\")\n",
        "else:\n",
        "    print(\"Reprobado\")\n"
      ],
      "metadata": {
        "id": "YC711ow3r83M"
      },
      "execution_count": null,
      "outputs": []
    },
    {
      "cell_type": "code",
      "source": [
        "#Ejemplo completo:\n",
        "temperatura = 35  # Variable  llamada temperatura\n",
        "\n",
        "if temperatura < 10:     # Se evalua si la temperatura es menor que 10.\n",
        "    print(\"Hace frío\")   # solo se imprime  si la condicion anterior es verdadera\n",
        "elif temperatura < 25:  # elif signica \"sino si\" la temp menor que 25 para ejecutarse.\n",
        "    print(\"Clima agradable\") #Este print se ejecutaría solo si la condición temperatura < 25 fuera verdadera\n",
        "else:                       #else significa \"en cualquier otro caso\".\n",
        "    print(\"Hace calor\")    #Como el programa entró en el bloque else, se ejecuta este print.\n",
        "\n",
        "\n",
        "## https://alejo94gf.github.io/Funcion2.0/ficha/IfElseElif.mp3\n"
      ],
      "metadata": {
        "id": "cVTAsSQxuSpg"
      },
      "execution_count": null,
      "outputs": []
    }
  ]
}