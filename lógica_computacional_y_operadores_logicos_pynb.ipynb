{
  "nbformat": 4,
  "nbformat_minor": 0,
  "metadata": {
    "colab": {
      "provenance": [],
      "authorship_tag": "ABX9TyMwcA+dz5sjBPd8oWdTI5Oc",
      "include_colab_link": true
    },
    "kernelspec": {
      "name": "python3",
      "display_name": "Python 3"
    },
    "language_info": {
      "name": "python"
    }
  },
  "cells": [
    {
      "cell_type": "markdown",
      "metadata": {
        "id": "view-in-github",
        "colab_type": "text"
      },
      "source": [
        "<a href=\"https://colab.research.google.com/github/alejo94gf/Fichas/blob/main/l%C3%B3gica_computacional_y_operadores_logicos_pynb.ipynb\" target=\"_parent\"><img src=\"https://colab.research.google.com/assets/colab-badge.svg\" alt=\"Open In Colab\"/></a>"
      ]
    },
    {
      "cell_type": "markdown",
      "source": [
        "# operadores lógicos\n",
        "Son herramientas que usamos para evaluar condiciones combinadas. Devuelven True (Verdadero) o False (Falso).\n",
        "\n",
        "###Operador, \t Nombre\t  y ¿Qué hace?\n",
        "and\t Y\t Es verdadero si ambas condiciones son verdaderas.\n",
        "\n",
        "or\t O\t  Es verdadero si al menos una condición es verdadera.\n",
        "\n",
        "not\t NO \tInvierte el valor: si es True, lo convierte en False y viceversa."
      ],
      "metadata": {
        "id": "3HE7y5ABjD9C"
      }
    },
    {
      "cell_type": "code",
      "source": [
        "#Ejemplo con and\n",
        "edad = 20\n",
        "tiene_dni = True\n",
        "\n",
        "if edad >= 18 and tiene_dni:\n",
        "    print(\"Puede entrar al club\")  # ✅ Ambas condiciones deben ser verdaderas\n"
      ],
      "metadata": {
        "id": "OcIjRUBupVtb"
      },
      "execution_count": 1,
      "outputs": []
    },
    {
      "cell_type": "code",
      "source": [
        " #Ejemplo con or\n",
        "lloviendo = False\n",
        "paraguas = True\n",
        "\n",
        "if lloviendo or paraguas:\n",
        "    print(\"Estás protegido\")  # ✅ Basta con que UNA condición sea verdadera\n"
      ],
      "metadata": {
        "id": "AwFXyFLkpd00"
      },
      "execution_count": null,
      "outputs": []
    },
    {
      "cell_type": "code",
      "source": [
        "#Ejemplo con not\n",
        "esta_lleno = False\n",
        "\n",
        "if not esta_lleno:\n",
        "    print(\"Puedes entrar\")  # ✅ Invierte el valor: not False = True\n",
        "\n"
      ],
      "metadata": {
        "id": "vByeZEropkK9"
      },
      "execution_count": null,
      "outputs": []
    },
    {
      "cell_type": "code",
      "source": [
        "#Ejemplo practico.\n",
        "# Asignamos la edad de la persona\n",
        "edad = 17\n",
        "\n",
        "# Indicamos si tiene permiso (por ejemplo, permiso de los padres)\n",
        "con_permiso = True\n",
        "\n",
        "# Evaluamos si la persona puede entrar al cine\n",
        "# La condición se cumple si tiene 18 años o más, o si tiene permiso\n",
        "if edad >= 18 or con_permiso:\n",
        "    # Si la condición es verdadera, se muestra este mensaje\n",
        "    print(\"Puede entrar al cine\")\n",
        "else:\n",
        "    # Si la condición es falsa (no tiene 18 y no tiene permiso), se muestra este mensaje\n",
        "    print(\"No puede entrar\")\n",
        "\n",
        "\n",
        "##https://alejo94gf.github.io/Funcion2.0/ficha/OpeLogico.mp3"
      ],
      "metadata": {
        "id": "HXOU_jAkqNH7"
      },
      "execution_count": null,
      "outputs": []
    }
  ]
}