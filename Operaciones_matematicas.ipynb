{
  "nbformat": 4,
  "nbformat_minor": 0,
  "metadata": {
    "colab": {
      "provenance": [],
      "authorship_tag": "ABX9TyNvInOJUSLybHxCnRiCRS23",
      "include_colab_link": true
    },
    "kernelspec": {
      "name": "python3",
      "display_name": "Python 3"
    },
    "language_info": {
      "name": "python"
    }
  },
  "cells": [
    {
      "cell_type": "markdown",
      "metadata": {
        "id": "view-in-github",
        "colab_type": "text"
      },
      "source": [
        "<a href=\"https://colab.research.google.com/github/alejo94gf/Fichas/blob/main/Operaciones_matematicas.ipynb\" target=\"_parent\"><img src=\"https://colab.research.google.com/assets/colab-badge.svg\" alt=\"Open In Colab\"/></a>"
      ]
    },
    {
      "cell_type": "markdown",
      "source": [
        "#operadores matemáticos en Python\n",
        "Los operadores matemáticos son símbolos que le indican a Python que debe hacer una operación matemática entre uno o más valores.\n",
        "\n",
        "Se usan para sumar, restar, multiplicar, dividir, y más.\n",
        "\n",
        "## ¿Para qué se usan?\n",
        "Se usan para realizar cálculos numéricos. Sirven en muchas situaciones, por ejemplo:\n",
        "\n",
        "Calcular precios o totales.\n",
        "\n",
        "Hacer operaciones en bucles.\n",
        "\n",
        "Validar condiciones (como si un número es par).\n",
        "\n",
        "Crear lógicas más complejas (por ejemplo: descuentos, porcentajes, etc.).\n",
        "\n",
        ""
      ],
      "metadata": {
        "id": "Y2tcTOt-BxVW"
      }
    },
    {
      "cell_type": "code",
      "source": [
        "// Operadores matemáticos en Python\n",
        "1. + → Suma\n",
        "Teoría: Se usa para sumar dos valores numéricos.\n",
        "\n",
        "a = 10\n",
        "b = 5\n",
        "resultado = a + b\n",
        "print(\"Suma:\", resultado)  # Resultado: 15\n",
        "\n",
        "2. - → Resta\n",
        "Teoría: Se usa para restar un valor de otro.\n",
        "\n",
        "a = 10\n",
        "b = 3\n",
        "resultado = a - b\n",
        "print(\"Resta:\", resultado)  # Resultado: 7\n",
        "\n",
        "3. * → Multiplicación\n",
        "Teoría: Multiplica dos valores.\n",
        "\n",
        "a = 4\n",
        "b = 6\n",
        "resultado = a * b\n",
        "print(\"Multiplicación:\", resultado)  # Resultado: 24\n",
        "\n",
        "4. / → División decimal\n",
        "Teoría: Divide dos valores y devuelve un número con decimales (float).\n",
        "a = 10\n",
        "b = 4\n",
        "resultado = a / b\n",
        "print(\"División:\", resultado)  # Resultado: 2.5\n",
        "\n",
        "5. // → División entera\n",
        "Teoría: Divide dos valores y devuelve solo la parte entera del resultado.\n",
        "\n",
        "a = 10\n",
        "b = 3\n",
        "resultado = a // b\n",
        "print(\"División entera:\", resultado)  # Resultado: 3\n",
        "\n",
        "\n",
        "\n",
        "6. % → Módulo (resto)\n",
        "Teoría: Devuelve el resto de una división.\n",
        "a = 10\n",
        "b = 3\n",
        "resultado = a % b\n",
        "print(\"Módulo:\", resultado)  # Resultado: 1\n",
        "\n",
        "7. ** → Potencia\n",
        "Teoría: Eleva un número a una potencia (exponente).\n",
        "\n",
        "base = 2\n",
        "exponente = 3\n",
        "resultado = base ** exponente\n",
        "print(\"Potencia:\", resultado)  # Resultado: 8\n",
        "\n",
        "\n",
        "\n",
        "\n",
        "\n",
        "\n"
      ],
      "metadata": {
        "id": "UsZ3pTRlDC73"
      },
      "execution_count": null,
      "outputs": []
    },
    {
      "cell_type": "code",
      "source": [
        "#                                                                                                               Ejemplo combinado:\n",
        "\n",
        "# Calcular total con impuestos y descuento\n",
        "precio = 100\n",
        "impuesto = precio * 0.15  # 15% de impuestos\n",
        "descuento = 10\n",
        "total = (precio + impuesto) - descuento\n",
        "print(\"Total a pagar:\", total)  # Resultado: 105.0\n",
        "\n",
        "\n",
        "##https://alejo94gf.github.io/Funcion2.0/ficha/OperacionesMatematicas.mp3"
      ],
      "metadata": {
        "id": "7OModfdsGwXL"
      },
      "execution_count": null,
      "outputs": []
    }
  ]
}