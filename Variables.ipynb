{
  "nbformat": 4,
  "nbformat_minor": 0,
  "metadata": {
    "colab": {
      "provenance": [],
      "authorship_tag": "ABX9TyMqBKSzLT7YrtmHuAJ0ODp+",
      "include_colab_link": true
    },
    "kernelspec": {
      "name": "python3",
      "display_name": "Python 3"
    },
    "language_info": {
      "name": "python"
    }
  },
  "cells": [
    {
      "cell_type": "markdown",
      "metadata": {
        "id": "view-in-github",
        "colab_type": "text"
      },
      "source": [
        "<a href=\"https://colab.research.google.com/github/alejo94gf/Fichas/blob/main/Variables.ipynb\" target=\"_parent\"><img src=\"https://colab.research.google.com/assets/colab-badge.svg\" alt=\"Open In Colab\"/></a>"
      ]
    },
    {
      "cell_type": "markdown",
      "source": [
        "# Variables en Python\n",
        "##¿Qué es una variable?\n",
        "\n",
        "Una variable es un nombre que se le da a un espacio en memoria donde se guarda un valor.\n",
        "Sirve para guardar datos que se pueden usar, modificar o mostrar más adelante en el programa.\n",
        "\n"
      ],
      "metadata": {
        "id": "ZdSShO0iB6xd"
      }
    },
    {
      "cell_type": "code",
      "source": [
        "# Variable tipo texto (string)\n",
        "nombre = \"Lucía\"\n",
        "\n",
        "# Variable tipo número entero (int)\n",
        "edad = 25\n",
        "\n",
        "# Variable tipo número decimal (float)\n",
        "altura = 1.68\n",
        "\n",
        "# Variable tipo lógico (boolean)\n",
        "es_mayor = True\n",
        "\n",
        "# Variable tipo lista (list)\n",
        "colores = [\"rojo\", \"verde\", \"azul\"]\n"
      ],
      "metadata": {
        "id": "A6lL8FXnCG6V"
      },
      "execution_count": null,
      "outputs": []
    },
    {
      "cell_type": "markdown",
      "source": [
        "# Tipos comunes de variables en Python:\n",
        "Tipo\tEjemplo\n",
        "\n",
        "int\t  edad = 30\n",
        "\n",
        "float\t  altura = 1.75\n",
        "\n",
        "str\t  nombre = \"Ana\"\n",
        "\n",
        "bool\t  activo = True\n",
        "\n",
        "list\t  dias = [\"Lun\", \"Mar\"]\n"
      ],
      "metadata": {
        "id": "7LTLmZiORURL"
      }
    },
    {
      "cell_type": "markdown",
      "source": [
        "#  Listas en Python.\n",
        "Una lista es como una caja que puede guardar muchos valores a la vez. Se escriben con corchetes []."
      ],
      "metadata": {
        "id": "eN_069uJ3EDN"
      }
    },
    {
      "cell_type": "code",
      "source": [
        "# Lista de números\n",
        "numeros = [10, 20, 30, 40]\n",
        "\n",
        "# Lista de palabras\n",
        "colores = [\"rojo\", \"verde\", \"azul\"]\n",
        "\n",
        "# Lista mixta (diferentes tipos de datos)\n",
        "cosas = [\"hola\", 123, 4.5, True]\n",
        "\n",
        "# Acceder a elementos de la lista (empezando desde el índice 0)\n",
        "print(colores[0])  # Imprime \"rojo\"\n",
        "print(numeros[2])  # Imprime 30\n"
      ],
      "metadata": {
        "id": "y6ecFjlt3vNw"
      },
      "execution_count": null,
      "outputs": []
    },
    {
      "cell_type": "markdown",
      "source": [
        "# Diccionario en Python\n",
        "Un diccionario (o dictionary) es una colección de datos donde cada valor tiene una clave (key).\n",
        "En vez de acceder por número (como en una lista), accedes por nombre.\n",
        "\n",
        " Es como una libreta de contactos:\n",
        "\n",
        "\"nombre\": \"Juan\"\n",
        "\n",
        "\"edad\": 30\n",
        "\n",
        "\"email\": \"juan@gmail.com\""
      ],
      "metadata": {
        "id": "9OTNwZ7k4pqV"
      }
    },
    {
      "cell_type": "code",
      "source": [
        "# Sintaxis básiica\n",
        "\n",
        "persona = {\n",
        "    \"nombre\": \"Juan\",\n",
        "    \"edad\": 30,\n",
        "    \"email\": \"juan@gmail.com\"\n",
        "}\n",
        "\n",
        "# Acceder a valores.\n",
        "\n",
        "print(persona[\"nombre\"])  # Imprime: Juan\n",
        "print(persona[\"edad\"])    # Imprime: 30\n",
        "\n",
        "#Modificar valores:\n",
        "persona[\"edad\"] = 31\n",
        "\n",
        "#Agreagar una clave:\n",
        "persona[\"telefono\"] = \"123-456\"\n",
        "\n",
        "#Eliminar una clave.\n",
        "del persona[\"email\"]\n",
        "\n",
        "\n"
      ],
      "metadata": {
        "colab": {
          "base_uri": "https://localhost:8080/",
          "height": 106
        },
        "id": "WYxZLr2E44nz",
        "outputId": "18c09e5f-6eff-42f8-bb08-6b9495e01280"
      },
      "execution_count": 3,
      "outputs": [
        {
          "output_type": "error",
          "ename": "SyntaxError",
          "evalue": "invalid syntax (<ipython-input-3-0681418db07f>, line 17)",
          "traceback": [
            "\u001b[0;36m  File \u001b[0;32m\"<ipython-input-3-0681418db07f>\"\u001b[0;36m, line \u001b[0;32m17\u001b[0m\n\u001b[0;31m    Agreagar una clave:\u001b[0m\n\u001b[0m             ^\u001b[0m\n\u001b[0;31mSyntaxError\u001b[0m\u001b[0;31m:\u001b[0m invalid syntax\n"
          ]
        }
      ]
    },
    {
      "cell_type": "code",
      "source": [],
      "metadata": {
        "id": "RCg8WtcR5cfq"
      },
      "execution_count": null,
      "outputs": []
    },
    {
      "cell_type": "code",
      "source": [],
      "metadata": {
        "id": "0BrLACRj5WsX"
      },
      "execution_count": null,
      "outputs": []
    },
    {
      "cell_type": "code",
      "source": [],
      "metadata": {
        "id": "irAFu8Zv47Ib"
      },
      "execution_count": null,
      "outputs": []
    }
  ]
}