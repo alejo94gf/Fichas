{
  "nbformat": 4,
  "nbformat_minor": 0,
  "metadata": {
    "colab": {
      "provenance": [],
      "authorship_tag": "ABX9TyNzPHvN48a/nENWofDPKSiR",
      "include_colab_link": true
    },
    "kernelspec": {
      "name": "python3",
      "display_name": "Python 3"
    },
    "language_info": {
      "name": "python"
    }
  },
  "cells": [
    {
      "cell_type": "markdown",
      "metadata": {
        "id": "view-in-github",
        "colab_type": "text"
      },
      "source": [
        "<a href=\"https://colab.research.google.com/github/alejo94gf/Fichas/blob/main/Ciclo_for.ipynb\" target=\"_parent\"><img src=\"https://colab.research.google.com/assets/colab-badge.svg\" alt=\"Open In Colab\"/></a>"
      ]
    },
    {
      "cell_type": "markdown",
      "source": [
        "#ciclo for\n",
        "Los bucles en Python, específicamente el ciclo \"for\", se utilizan para iterar sobre una secuencia (como una lista, tupla, cadena de texto o rango numérico) o cualquier objeto iterable. En cada iteración, el código dentro del bucle se ejecuta con el siguiente elemento de la secuencia. Son extremadamente útiles cuando necesitas realizar una misma acción varias veces, modificando un valor o realizando alguna operación sobre cada elemento de la secuencia.\n",
        "El ciclo for se usa para repetir acciones una cantidad conocida de veces, especialmente cuando estás recorriendo:\n",
        "\n",
        "-Listas\n",
        "\n",
        "-Strings\n",
        "\n",
        "-Rangos de números\n",
        "\n",
        "-Diccionarios\n",
        "\n",
        "\n",
        "\n",
        "###Sintaxis básica:\n",
        "\n",
        "for variable in colección:\n",
        "    # código que se repite\n",
        "\n",
        "\n",
        "\n"
      ],
      "metadata": {
        "id": "eEKu_cQC0IOp"
      }
    },
    {
      "cell_type": "code",
      "source": [
        "#Ejemplo Recorre una lista\n",
        "frutas = [\"manzana\", \"banana\", \"pera\"]\n",
        "\n",
        "for fruta in frutas:\n",
        "    print(\"Me gusta la\", fruta)\n"
      ],
      "metadata": {
        "id": "DIQUkz6k1khb"
      },
      "execution_count": null,
      "outputs": []
    },
    {
      "cell_type": "code",
      "execution_count": null,
      "metadata": {
        "id": "yZ--hdBKxtQf"
      },
      "outputs": [],
      "source": [
        "#Ejemplo  Usa range() (Repite n veces)\n",
        "for i in range(5):\n",
        "    print(\"Repetición número\", i)\n",
        "\n",
        "##Esto imprime repeticion numero 0 hasta repeticion  numero 4"
      ]
    },
    {
      "cell_type": "code",
      "source": [
        "#Ejemplpo recorre un string\n",
        "texto = \"Python\"\n",
        "\n",
        "for letra in texto:\n",
        "    print(letra)\n"
      ],
      "metadata": {
        "id": "BTxu_ki-2Oxb"
      },
      "execution_count": null,
      "outputs": []
    },
    {
      "cell_type": "code",
      "source": [
        "#Ejemplo recorre un diccionario\n",
        "\n",
        "cliente = {\n",
        "    \"nombre\": \"Carlos\",\n",
        "    \"edad\": 30,\n",
        "    \"servicio\": \"corte\"\n",
        "}\n",
        "\n",
        "for clave, valor in cliente.items():\n",
        "    print(clave, \"→\", valor)\n"
      ],
      "metadata": {
        "id": "4PR5L5bp2Uxj"
      },
      "execution_count": null,
      "outputs": []
    },
    {
      "cell_type": "code",
      "source": [
        "## Ejemplo completo y explicado  ciclo for:\n",
        "#  Imprimir cada elemento de una lista de nombres.\n",
        "\n",
        "nombres = [\"Alice\", \"Bob\", \"Charlie\", \"David\"]\n",
        "\n",
        "for nombre in nombres:\n",
        "nombre\n",
        "\n",
        "\n",
        "# El ciclo \"for\" recorre cada elemento de la lista \"nombres\".\n",
        "# En cada iteración, la variable \"nombre\" toma el valor del elemento actual de la lista.\n",
        "# La función print(nombre) imprime el valor de la variable \"nombre\" en la consola.\n",
        "# El bucle se repite hasta que se han procesado todos los elementos de la lista.\n",
        "# El resultado mostrado en la consola es cada nombre de la lista en una linea diferente.\n",
        "# El propósito del bucle \"for\" en este ejemplo es iterar sobre la lista y ejecutar la accion print() sobre cada elemento.\n",
        "# Este tipo de bucle es útil para automatizar acciones repetitivas en una coleccion de datos.\n",
        "\n",
        "\n",
        "## https://alejo94gf.github.io/Funcion2.0/ficha/Ciclo_for.mp3"
      ],
      "metadata": {
        "id": "bRrXIcRC207P"
      },
      "execution_count": null,
      "outputs": []
    }
  ]
}